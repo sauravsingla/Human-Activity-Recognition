{
  "nbformat": 4,
  "nbformat_minor": 0,
  "metadata": {
    "colab": {
      "name": "GRU_RNN.ipynb",
      "provenance": [],
      "include_colab_link": true
    },
    "kernelspec": {
      "name": "python3",
      "display_name": "Python 3"
    }
  },
  "cells": [
    {
      "cell_type": "markdown",
      "metadata": {
        "id": "view-in-github",
        "colab_type": "text"
      },
      "source": [
        "<a href=\"https://colab.research.google.com/github/sauravsingla/Human-Activity-Recognition/blob/main/GRU_RNN.ipynb\" target=\"_parent\"><img src=\"https://colab.research.google.com/assets/colab-badge.svg\" alt=\"Open In Colab\"/></a>"
      ]
    },
    {
      "cell_type": "code",
      "metadata": {
        "id": "6Lgytatg2oct"
      },
      "source": [
        "#import the libraries\n",
        "import numpy as np\n",
        "import pandas as pd\n",
        "#from numpy import mean\n",
        "#from numpy import std\n",
        "#from numpy import dstack\n",
        "from matplotlib import pyplot as plt\n",
        "from keras.models import Sequential\n",
        "from keras.layers import Dense\n",
        "from keras.layers import Flatten\n",
        "from keras.layers import Dropout\n",
        "from sklearn.preprocessing import StandardScaler\n",
        "from sklearn.metrics import classification_report, confusion_matrix\n",
        "from keras.layers import GRU\n",
        "from keras.utils import to_categorical"
      ],
      "execution_count": null,
      "outputs": []
    },
    {
      "cell_type": "code",
      "metadata": {
        "id": "dDiTwwNR3tjE",
        "colab": {
          "base_uri": "https://localhost:8080/"
        },
        "outputId": "bab9bb62-d0dc-4d93-8570-76f10facba92"
      },
      "source": [
        "#opening the zip-file\n",
        "from zipfile import ZipFile\n",
        "file_name1=\"UCI HAR Dataset.zip\"\n",
        "with ZipFile(file_name1,'r') as zip:\n",
        "  zip.extractall()\n",
        "  print(\"DONE_1\")\n"
      ],
      "execution_count": null,
      "outputs": [
        {
          "output_type": "stream",
          "text": [
            "DONE_1\n"
          ],
          "name": "stdout"
        }
      ]
    },
    {
      "cell_type": "code",
      "metadata": {
        "id": "XKQu-C-H34jO"
      },
      "source": [
        "#those are separate normalised input features for the neural network\n",
        "SIGNALS = [\n",
        "    \"body_acc_x\",\n",
        "    \"body_acc_y\",\n",
        "    \"body_acc_z\",\n",
        "    \"body_gyro_x\",\n",
        "    \"body_gyro_y\",\n",
        "    \"body_gyro_z\",\n",
        "    \"total_acc_x\",\n",
        "    \"total_acc_y\",\n",
        "    \"total_acc_z\"\n",
        "]\n",
        "# Output classes to learn how to classify\n",
        "LABELS = [\n",
        "    \"WALKING\",\n",
        "    \"WALKING_UPSTAIRS\",\n",
        "    \"WALKING_DOWNSTAIRS\",\n",
        "    \"SITTING\",\n",
        "    \"STANDING\",\n",
        "    \"LAYING\"\n",
        "]"
      ],
      "execution_count": null,
      "outputs": []
    },
    {
      "cell_type": "code",
      "metadata": {
        "id": "PpS-WuLX4EwW"
      },
      "source": [
        "# Utility function to read the data from csv file\n",
        "def _read_csv(filename):\n",
        "    return pd.read_csv(filename, delim_whitespace=True, header=None)\n",
        "\n",
        "# Utility function to load the load_signals\n",
        "def load_signals(subset):\n",
        "    signals_data = []\n",
        "\n",
        "    for signal in SIGNALS:\n",
        "        filename = f'/content/UCI HAR Dataset/{subset}/Inertial Signals/{signal}_{subset}.txt'\n",
        "        #/content/UCI HAR Dataset/train/Inertial Signals\n",
        "        #/content/UCI HAR Dataset/train/Inertial Signals/body_acc_x_train.txt\n",
        "        signals_data.append(\n",
        "            _read_csv(filename).to_numpy()\n",
        "        ) \n",
        "\n",
        "    # Transpose is used to change the dimensionality of the output,\n",
        "    # aggregating the signals by combination of sample/timestep.\n",
        "    # Resultant shape is (7352 train/2947 test samples, 128 timesteps, 9 signals)\n",
        "    return np.transpose(signals_data, (1, 2, 0))"
      ],
      "execution_count": null,
      "outputs": []
    },
    {
      "cell_type": "code",
      "metadata": {
        "id": "QS0Vx5jj4Kh_"
      },
      "source": [
        "def load_y(subset):\n",
        "    filename = f'/content/UCI HAR Dataset/{subset}/y_{subset}.txt'\n",
        "    y = _read_csv(filename)[0]\n",
        "\n",
        "    return pd.get_dummies(y).to_numpy()"
      ],
      "execution_count": null,
      "outputs": []
    },
    {
      "cell_type": "code",
      "metadata": {
        "id": "eosKcnzr4Os_"
      },
      "source": [
        "def load_data():\n",
        "    \"\"\"\n",
        "    Obtain the dataset from multiple files.\n",
        "    Returns: X_train, X_test, y_train, y_test\n",
        "    \"\"\"\n",
        "    X_train, X_test = load_signals('train'), load_signals('test')\n",
        "    y_train, y_test = load_y('train'), load_y('test')\n",
        "\n",
        "    return X_train, y_train, X_test,  y_test"
      ],
      "execution_count": null,
      "outputs": []
    },
    {
      "cell_type": "code",
      "metadata": {
        "id": "qPtE1-Ql48cj"
      },
      "source": [
        "# Importing tensorflow\n",
        "np.random.seed(42)\n",
        "import tensorflow as tf\n",
        "tf.random.set_seed(42)"
      ],
      "execution_count": null,
      "outputs": []
    },
    {
      "cell_type": "code",
      "metadata": {
        "id": "adgZ12F749wR"
      },
      "source": [
        "# Initializing parameters\n",
        "epochs = 45\n",
        "batch_size = 16\n",
        "n_hidden = 32"
      ],
      "execution_count": null,
      "outputs": []
    },
    {
      "cell_type": "code",
      "metadata": {
        "id": "PxnN7faH8P08"
      },
      "source": [
        "# Utility function to count the number of classes\n",
        "def _count_classes(y):\n",
        "    return len(set([tuple(category) for category in y]))"
      ],
      "execution_count": null,
      "outputs": []
    },
    {
      "cell_type": "code",
      "metadata": {
        "id": "dp0uEPbJ8VVI"
      },
      "source": [
        "# Loading the train and test data\n",
        "X_train, Y_train, X_test,  Y_test = load_data()"
      ],
      "execution_count": null,
      "outputs": []
    },
    {
      "cell_type": "code",
      "metadata": {
        "id": "H6krYz4v8eRP",
        "colab": {
          "base_uri": "https://localhost:8080/"
        },
        "outputId": "4c50bc38-8609-483b-f512-794bfaee4d34"
      },
      "source": [
        "timesteps = len(X_train[0])\n",
        "input_dim = len(X_train[0][0])\n",
        "n_classes = _count_classes(Y_train)\n",
        "#n_classes be 6\n",
        "print(timesteps)\n",
        "print(input_dim)\n",
        "print(len(X_train))\n",
        "print(n_classes)"
      ],
      "execution_count": null,
      "outputs": [
        {
          "output_type": "stream",
          "text": [
            "128\n",
            "9\n",
            "7352\n",
            "6\n"
          ],
          "name": "stdout"
        }
      ]
    },
    {
      "cell_type": "code",
      "metadata": {
        "id": "GfKPykfZ_8GX",
        "colab": {
          "base_uri": "https://localhost:8080/"
        },
        "outputId": "f4099def-0958-48ec-fbe7-0806c5e2b22f"
      },
      "source": [
        "# Initiliazing the sequential model\n",
        "model = Sequential()\n",
        "# Configuring the parameters\n",
        "model.add(GRU(n_hidden, input_shape=(timesteps, input_dim)))\n",
        "# Adding a dropout layer\n",
        "model.add(Dropout(0.5))\n",
        "# Adding a dense output layer with sigmoid activation\n",
        "model.add(Dense(n_classes, activation='softmax'))\n",
        "model.summary()"
      ],
      "execution_count": null,
      "outputs": [
        {
          "output_type": "stream",
          "text": [
            "Model: \"sequential\"\n",
            "_________________________________________________________________\n",
            "Layer (type)                 Output Shape              Param #   \n",
            "=================================================================\n",
            "gru (GRU)                    (None, 32)                4128      \n",
            "_________________________________________________________________\n",
            "dropout (Dropout)            (None, 32)                0         \n",
            "_________________________________________________________________\n",
            "dense (Dense)                (None, 6)                 198       \n",
            "=================================================================\n",
            "Total params: 4,326\n",
            "Trainable params: 4,326\n",
            "Non-trainable params: 0\n",
            "_________________________________________________________________\n"
          ],
          "name": "stdout"
        }
      ]
    },
    {
      "cell_type": "code",
      "metadata": {
        "id": "Gf0FyJCtAQum"
      },
      "source": [
        " #Compiling the model\n",
        "model.compile(loss='categorical_crossentropy',\n",
        "              optimizer='adam',\n",
        "              metrics=['accuracy'])"
      ],
      "execution_count": null,
      "outputs": []
    },
    {
      "cell_type": "code",
      "metadata": {
        "id": "9MvvwlIMAcXP",
        "colab": {
          "base_uri": "https://localhost:8080/"
        },
        "outputId": "f5cd286f-3441-425a-a1ea-ccaf529e1a0c"
      },
      "source": [
        "# Training the model\n",
        "model.fit(X_train,Y_train,\n",
        "          batch_size=batch_size,\n",
        "          validation_data=(X_test, Y_test),\n",
        "          epochs=epochs,shuffle=True)\n"
      ],
      "execution_count": null,
      "outputs": [
        {
          "output_type": "stream",
          "text": [
            "Epoch 1/45\n",
            "460/460 [==============================] - 20s 44ms/step - loss: 1.2607 - accuracy: 0.4536 - val_loss: 1.1711 - val_accuracy: 0.5243\n",
            "Epoch 2/45\n",
            "460/460 [==============================] - 20s 44ms/step - loss: 0.9699 - accuracy: 0.5815 - val_loss: 0.8499 - val_accuracy: 0.6386\n",
            "Epoch 3/45\n",
            "460/460 [==============================] - 20s 43ms/step - loss: 0.6730 - accuracy: 0.7018 - val_loss: 0.6671 - val_accuracy: 0.7869\n",
            "Epoch 4/45\n",
            "460/460 [==============================] - 20s 44ms/step - loss: 0.4573 - accuracy: 0.8282 - val_loss: 0.6457 - val_accuracy: 0.8005\n",
            "Epoch 5/45\n",
            "460/460 [==============================] - 20s 43ms/step - loss: 0.3766 - accuracy: 0.8887 - val_loss: 0.5083 - val_accuracy: 0.8429\n",
            "Epoch 6/45\n",
            "460/460 [==============================] - 20s 44ms/step - loss: 0.3224 - accuracy: 0.8985 - val_loss: 0.4090 - val_accuracy: 0.8768\n",
            "Epoch 7/45\n",
            "460/460 [==============================] - 24s 52ms/step - loss: 0.2741 - accuracy: 0.9089 - val_loss: 0.3793 - val_accuracy: 0.8789\n",
            "Epoch 8/45\n",
            "460/460 [==============================] - 20s 43ms/step - loss: 0.2384 - accuracy: 0.9192 - val_loss: 0.3615 - val_accuracy: 0.8887\n",
            "Epoch 9/45\n",
            "460/460 [==============================] - 21s 45ms/step - loss: 0.2232 - accuracy: 0.9294 - val_loss: 0.4165 - val_accuracy: 0.8585\n",
            "Epoch 10/45\n",
            "460/460 [==============================] - 21s 45ms/step - loss: 0.1905 - accuracy: 0.9400 - val_loss: 0.3459 - val_accuracy: 0.8938\n",
            "Epoch 11/45\n",
            "460/460 [==============================] - 20s 44ms/step - loss: 0.1724 - accuracy: 0.9387 - val_loss: 0.3897 - val_accuracy: 0.8873\n",
            "Epoch 12/45\n",
            "460/460 [==============================] - 21s 45ms/step - loss: 0.1797 - accuracy: 0.9381 - val_loss: 0.3579 - val_accuracy: 0.8968\n",
            "Epoch 13/45\n",
            "460/460 [==============================] - 20s 43ms/step - loss: 0.1836 - accuracy: 0.9377 - val_loss: 0.3382 - val_accuracy: 0.9070\n",
            "Epoch 14/45\n",
            "460/460 [==============================] - 20s 43ms/step - loss: 0.1868 - accuracy: 0.9357 - val_loss: 0.3427 - val_accuracy: 0.8989\n",
            "Epoch 15/45\n",
            "460/460 [==============================] - 20s 43ms/step - loss: 0.1671 - accuracy: 0.9399 - val_loss: 0.3685 - val_accuracy: 0.9009\n",
            "Epoch 16/45\n",
            "460/460 [==============================] - 20s 43ms/step - loss: 0.1721 - accuracy: 0.9399 - val_loss: 0.3352 - val_accuracy: 0.8979\n",
            "Epoch 17/45\n",
            "460/460 [==============================] - 20s 44ms/step - loss: 0.1499 - accuracy: 0.9434 - val_loss: 0.3403 - val_accuracy: 0.9121\n",
            "Epoch 18/45\n",
            "460/460 [==============================] - 20s 43ms/step - loss: 0.1408 - accuracy: 0.9463 - val_loss: 0.6279 - val_accuracy: 0.8544\n",
            "Epoch 19/45\n",
            "460/460 [==============================] - 20s 44ms/step - loss: 0.1480 - accuracy: 0.9440 - val_loss: 0.3414 - val_accuracy: 0.9006\n",
            "Epoch 20/45\n",
            "460/460 [==============================] - 20s 43ms/step - loss: 0.1421 - accuracy: 0.9450 - val_loss: 0.3114 - val_accuracy: 0.9023\n",
            "Epoch 21/45\n",
            "460/460 [==============================] - 20s 43ms/step - loss: 0.1466 - accuracy: 0.9449 - val_loss: 0.3129 - val_accuracy: 0.9074\n",
            "Epoch 22/45\n",
            "460/460 [==============================] - 20s 43ms/step - loss: 0.1326 - accuracy: 0.9474 - val_loss: 0.3396 - val_accuracy: 0.9043\n",
            "Epoch 23/45\n",
            "460/460 [==============================] - 20s 44ms/step - loss: 0.1302 - accuracy: 0.9489 - val_loss: 0.3490 - val_accuracy: 0.9002\n",
            "Epoch 24/45\n",
            "460/460 [==============================] - 20s 43ms/step - loss: 0.1488 - accuracy: 0.9425 - val_loss: 0.3640 - val_accuracy: 0.9040\n",
            "Epoch 25/45\n",
            "460/460 [==============================] - 21s 45ms/step - loss: 0.1296 - accuracy: 0.9494 - val_loss: 0.3411 - val_accuracy: 0.9053\n",
            "Epoch 26/45\n",
            "460/460 [==============================] - 20s 44ms/step - loss: 0.1246 - accuracy: 0.9476 - val_loss: 0.3731 - val_accuracy: 0.9050\n",
            "Epoch 27/45\n",
            "460/460 [==============================] - 20s 44ms/step - loss: 0.1417 - accuracy: 0.9459 - val_loss: 0.3450 - val_accuracy: 0.9175\n",
            "Epoch 28/45\n",
            "460/460 [==============================] - 20s 44ms/step - loss: 0.1225 - accuracy: 0.9501 - val_loss: 0.3661 - val_accuracy: 0.9077\n",
            "Epoch 29/45\n",
            "460/460 [==============================] - 21s 45ms/step - loss: 0.1224 - accuracy: 0.9497 - val_loss: 0.3783 - val_accuracy: 0.9131\n",
            "Epoch 30/45\n",
            "460/460 [==============================] - 20s 44ms/step - loss: 0.1211 - accuracy: 0.9497 - val_loss: 0.3886 - val_accuracy: 0.9053\n",
            "Epoch 31/45\n",
            "460/460 [==============================] - 20s 43ms/step - loss: 0.1542 - accuracy: 0.9446 - val_loss: 0.3399 - val_accuracy: 0.9097\n",
            "Epoch 32/45\n",
            "460/460 [==============================] - 20s 43ms/step - loss: 0.1256 - accuracy: 0.9479 - val_loss: 0.4169 - val_accuracy: 0.8962\n",
            "Epoch 33/45\n",
            "460/460 [==============================] - 20s 44ms/step - loss: 0.1197 - accuracy: 0.9520 - val_loss: 0.4181 - val_accuracy: 0.9013\n",
            "Epoch 34/45\n",
            "460/460 [==============================] - 20s 44ms/step - loss: 0.1161 - accuracy: 0.9514 - val_loss: 0.3705 - val_accuracy: 0.9067\n",
            "Epoch 35/45\n",
            "460/460 [==============================] - 20s 44ms/step - loss: 0.1186 - accuracy: 0.9508 - val_loss: 0.4107 - val_accuracy: 0.9016\n",
            "Epoch 36/45\n",
            "460/460 [==============================] - 20s 44ms/step - loss: 0.1254 - accuracy: 0.9495 - val_loss: 0.3595 - val_accuracy: 0.9091\n",
            "Epoch 37/45\n",
            "460/460 [==============================] - 20s 44ms/step - loss: 0.1189 - accuracy: 0.9499 - val_loss: 0.3421 - val_accuracy: 0.9138\n",
            "Epoch 38/45\n",
            "460/460 [==============================] - 20s 44ms/step - loss: 0.1155 - accuracy: 0.9499 - val_loss: 0.3713 - val_accuracy: 0.9026\n",
            "Epoch 39/45\n",
            "460/460 [==============================] - 20s 43ms/step - loss: 0.1249 - accuracy: 0.9486 - val_loss: 0.3180 - val_accuracy: 0.9046\n",
            "Epoch 40/45\n",
            "460/460 [==============================] - 20s 43ms/step - loss: 0.1282 - accuracy: 0.9472 - val_loss: 0.2910 - val_accuracy: 0.9108\n",
            "Epoch 41/45\n",
            "460/460 [==============================] - 20s 44ms/step - loss: 0.1143 - accuracy: 0.9528 - val_loss: 0.2758 - val_accuracy: 0.9189\n",
            "Epoch 42/45\n",
            "460/460 [==============================] - 20s 44ms/step - loss: 0.1137 - accuracy: 0.9517 - val_loss: 0.2762 - val_accuracy: 0.9230\n",
            "Epoch 43/45\n",
            "460/460 [==============================] - 20s 43ms/step - loss: 0.1195 - accuracy: 0.9498 - val_loss: 0.2703 - val_accuracy: 0.9203\n",
            "Epoch 44/45\n",
            "460/460 [==============================] - 20s 42ms/step - loss: 0.1118 - accuracy: 0.9546 - val_loss: 0.2591 - val_accuracy: 0.9192\n",
            "Epoch 45/45\n",
            "460/460 [==============================] - 20s 43ms/step - loss: 0.1197 - accuracy: 0.9523 - val_loss: 0.2906 - val_accuracy: 0.9131\n"
          ],
          "name": "stdout"
        },
        {
          "output_type": "execute_result",
          "data": {
            "text/plain": [
              "<tensorflow.python.keras.callbacks.History at 0x7fdd5139bdd8>"
            ]
          },
          "metadata": {
            "tags": []
          },
          "execution_count": 14
        }
      ]
    },
    {
      "cell_type": "code",
      "metadata": {
        "id": "nI3xyVIRBKl9"
      },
      "source": [
        "Y_pred = model.predict(X_test)"
      ],
      "execution_count": null,
      "outputs": []
    },
    {
      "cell_type": "code",
      "metadata": {
        "id": "bRHrhbhlDgkX"
      },
      "source": [
        "pred = np.argmax(Y_pred,axis = 1) \n",
        "Y_actual = np.argmax(Y_test,axis = 1)"
      ],
      "execution_count": null,
      "outputs": []
    },
    {
      "cell_type": "code",
      "metadata": {
        "id": "kPdGlDRlDkfG"
      },
      "source": [
        "confusion_matrix=confusion_matrix(Y_actual, pred)"
      ],
      "execution_count": null,
      "outputs": []
    },
    {
      "cell_type": "code",
      "metadata": {
        "id": "oH43th3kHGAt",
        "colab": {
          "base_uri": "https://localhost:8080/"
        },
        "outputId": "06a6aac6-5c3c-41ef-f680-47318eae1bfc"
      },
      "source": [
        "print(confusion_matrix)"
      ],
      "execution_count": null,
      "outputs": [
        {
          "output_type": "stream",
          "text": [
            "[[467   2  27   0   0   0]\n",
            " [ 10 454   7   0   0   0]\n",
            " [  4   0 416   0   0   0]\n",
            " [  0   5   4 397  85   0]\n",
            " [  9   1   2 100 420   0]\n",
            " [  0   0   0   0   0 537]]\n"
          ],
          "name": "stdout"
        }
      ]
    },
    {
      "cell_type": "code",
      "metadata": {
        "id": "niQUGSSeELGE",
        "colab": {
          "base_uri": "https://localhost:8080/"
        },
        "outputId": "fec701cb-aad9-462d-aad2-8d93e175ec92"
      },
      "source": [
        "print(classification_report(Y_actual, pred))"
      ],
      "execution_count": null,
      "outputs": [
        {
          "output_type": "stream",
          "text": [
            "              precision    recall  f1-score   support\n",
            "\n",
            "           0       0.95      0.94      0.95       496\n",
            "           1       0.98      0.96      0.97       471\n",
            "           2       0.91      0.99      0.95       420\n",
            "           3       0.80      0.81      0.80       491\n",
            "           4       0.83      0.79      0.81       532\n",
            "           5       1.00      1.00      1.00       537\n",
            "\n",
            "    accuracy                           0.91      2947\n",
            "   macro avg       0.91      0.92      0.91      2947\n",
            "weighted avg       0.91      0.91      0.91      2947\n",
            "\n"
          ],
          "name": "stdout"
        }
      ]
    },
    {
      "cell_type": "code",
      "metadata": {
        "id": "Mj7hw_og941K",
        "colab": {
          "base_uri": "https://localhost:8080/",
          "height": 710
        },
        "outputId": "f7bc53c2-8011-4fbc-c023-8d7527c61d3b"
      },
      "source": [
        "#visualiZation of the result\n",
        "\n",
        "\n",
        "#print(\"Testing Accuracy: {}%\".format(100*accuracy))\n",
        "\n",
        "#print(\"\")\n",
        "#print(\"Precision: {}%\".format(100*metrics.precision_score(y_test, predictions, average=\"weighted\")))\n",
        "#print(\"Recall: {}%\".format(100*metrics.recall_score(y_test, predictions, average=\"weighted\")))\n",
        "#print(\"f1_score: {}%\".format(100*metrics.f1_score(y_test, predictions, average=\"weighted\")))\n",
        "#normalised_confusion_matrix = np.array(confusion_matrix, dtype=np.float32)/np.sum(confusion_matrix)*100\n",
        "#print(\"Confusion matrix (normalised to % of total test data):\")\n",
        "#print(normalised_confusion_matrix)\n",
        "\n",
        "width = 10\n",
        "height = 10\n",
        "plt.figure(figsize=(width, height))\n",
        "plt.imshow(\n",
        "    confusion_matrix,\n",
        "    interpolation='nearest',\n",
        "    cmap=plt.cm.rainbow\n",
        ")\n",
        "plt.title(\"Confusion matrix for GRU-RNN \\n\")\n",
        "plt.colorbar()\n",
        "tick_marks = np.arange(n_classes)\n",
        "plt.xticks(tick_marks, LABELS, rotation=90)\n",
        "plt.yticks(tick_marks, LABELS)\n",
        "plt.tight_layout()\n",
        "plt.ylabel('True label')\n",
        "plt.xlabel('Predicted label')\n",
        "plt.show()"
      ],
      "execution_count": null,
      "outputs": [
        {
          "output_type": "display_data",
          "data": {
            "image/png": "[encoded data removed]",
            "text/plain": [
              "<Figure size 720x720 with 2 Axes>"
            ]
          },
          "metadata": {
            "tags": [],
            "needs_background": "light"
          }
        }
      ]
    }
  ]
}