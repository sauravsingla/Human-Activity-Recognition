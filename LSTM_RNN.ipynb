{
  "nbformat": 4,
  "nbformat_minor": 0,
  "metadata": {
    "colab": {
      "name": "LSTM_RNN.ipynb",
      "provenance": [],
      "collapsed_sections": [],
      "toc_visible": true,
      "include_colab_link": true
    },
    "kernelspec": {
      "name": "python3",
      "display_name": "Python 3"
    }
  },
  "cells": [
    {
      "cell_type": "markdown",
      "metadata": {
        "id": "view-in-github",
        "colab_type": "text"
      },
      "source": [
        "<a href=\"https://colab.research.google.com/github/sauravsingla/Human-Activity-Recognition/blob/main/LSTM_RNN.ipynb\" target=\"_parent\"><img src=\"https://colab.research.google.com/assets/colab-badge.svg\" alt=\"Open In Colab\"/></a>"
      ]
    },
    {
      "cell_type": "code",
      "metadata": {
        "id": "fLgxrlFwVKf5"
      },
      "source": [
        "#import the libraries\n",
        "import numpy as np\n",
        "import pandas as pd\n",
        "#from numpy import mean\n",
        "#from numpy import std\n",
        "#from numpy import dstack\n",
        "from matplotlib import pyplot as plt\n",
        "from keras.models import Sequential\n",
        "from keras.layers import Dense\n",
        "from keras.layers import Flatten\n",
        "from keras.layers import Dropout\n",
        "from sklearn.preprocessing import StandardScaler\n",
        "from keras.layers import LSTM\n",
        "from keras.utils import to_categorical"
      ],
      "execution_count": null,
      "outputs": []
    },
    {
      "cell_type": "code",
      "metadata": {
        "id": "nNERCUvsehEu",
        "colab": {
          "base_uri": "https://localhost:8080/"
        },
        "outputId": "5101c527-5a5e-4945-dbf9-2fbfa90250aa"
      },
      "source": [
        "#opening the zip-file\n",
        "from zipfile import ZipFile\n",
        "file_name1=\"UCI HAR Dataset.zip\"\n",
        "with ZipFile(file_name1,'r') as zip:\n",
        "  zip.extractall()\n",
        "  print(\"DONE_1\")\n"
      ],
      "execution_count": null,
      "outputs": [
        {
          "output_type": "stream",
          "text": [
            "DONE_1\n"
          ],
          "name": "stdout"
        }
      ]
    },
    {
      "cell_type": "code",
      "metadata": {
        "id": "S98dSPcfkhZC"
      },
      "source": [
        "#those are separate normalised input features for the neural network\n",
        "SIGNALS = [\n",
        "    \"body_acc_x\",\n",
        "    \"body_acc_y\",\n",
        "    \"body_acc_z\",\n",
        "    \"body_gyro_x\",\n",
        "    \"body_gyro_y\",\n",
        "    \"body_gyro_z\",\n",
        "    \"total_acc_x\",\n",
        "    \"total_acc_y\",\n",
        "    \"total_acc_z\"\n",
        "]\n",
        "# Output classes to learn how to classify\n",
        "LABELS = [\n",
        "    \"WALKING\",\n",
        "    \"WALKING_UPSTAIRS\",\n",
        "    \"WALKING_DOWNSTAIRS\",\n",
        "    \"SITTING\",\n",
        "    \"STANDING\",\n",
        "    \"LAYING\"\n",
        "]"
      ],
      "execution_count": null,
      "outputs": []
    },
    {
      "cell_type": "code",
      "metadata": {
        "id": "o_kED8f3eRFn"
      },
      "source": [
        "# Utility function to read the data from csv file\n",
        "def _read_csv(filename):\n",
        "    return pd.read_csv(filename, delim_whitespace=True, header=None)\n",
        "\n",
        "# Utility function to load the load_signals\n",
        "def load_signals(subset):\n",
        "    signals_data = []\n",
        "\n",
        "    for signal in SIGNALS:\n",
        "        filename = f'/content/UCI HAR Dataset/{subset}/Inertial Signals/{signal}_{subset}.txt'\n",
        "        #/content/UCI HAR Dataset/train/Inertial Signals\n",
        "        #/content/UCI HAR Dataset/train/Inertial Signals/body_acc_x_train.txt\n",
        "        signals_data.append(\n",
        "            _read_csv(filename).to_numpy()\n",
        "        ) \n",
        "\n",
        "    # Transpose is used to change the dimensionality of the output,\n",
        "    # aggregating the signals by combination of sample/timestep.\n",
        "    # Resultant shape is (7352 train/2947 test samples, 128 timesteps, 9 signals)\n",
        "    return np.transpose(signals_data, (1, 2, 0))"
      ],
      "execution_count": null,
      "outputs": []
    },
    {
      "cell_type": "code",
      "metadata": {
        "id": "Qo134blGjnxJ"
      },
      "source": [
        "def load_y(subset):\n",
        "    filename = f'/content/UCI HAR Dataset/{subset}/y_{subset}.txt'\n",
        "    y = _read_csv(filename)[0]\n",
        "\n",
        "    return pd.get_dummies(y).to_numpy()"
      ],
      "execution_count": null,
      "outputs": []
    },
    {
      "cell_type": "code",
      "metadata": {
        "id": "lBWfaN-1j99l"
      },
      "source": [
        "def load_data():\n",
        "    \"\"\"\n",
        "    Obtain the dataset from multiple files.\n",
        "    Returns: X_train, X_test, y_train, y_test\n",
        "    \"\"\"\n",
        "    X_train, X_test = load_signals('train'), load_signals('test')\n",
        "    y_train, y_test = load_y('train'), load_y('test')\n",
        "\n",
        "    return X_train, y_train, X_test,  y_test"
      ],
      "execution_count": null,
      "outputs": []
    },
    {
      "cell_type": "code",
      "metadata": {
        "id": "QGovNDeGoczL"
      },
      "source": [
        "# Importing tensorflow\n",
        "np.random.seed(42)\n",
        "import tensorflow as tf\n",
        "tf.random.set_seed(42)"
      ],
      "execution_count": null,
      "outputs": []
    },
    {
      "cell_type": "code",
      "metadata": {
        "id": "XRiK4PrUowt8"
      },
      "source": [
        "# Initializing parameters\n",
        "epochs = 45\n",
        "batch_size = 16\n",
        "n_hidden = 32"
      ],
      "execution_count": null,
      "outputs": []
    },
    {
      "cell_type": "code",
      "metadata": {
        "id": "HpRXkDNHpC9x"
      },
      "source": [
        "# Utility function to count the number of classes\n",
        "def _count_classes(y):\n",
        "    return len(set([tuple(category) for category in y]))"
      ],
      "execution_count": null,
      "outputs": []
    },
    {
      "cell_type": "code",
      "metadata": {
        "id": "hT9KJhAZpQp_"
      },
      "source": [
        "# Loading the train and test data\n",
        "X_train, Y_train, X_test,  Y_test = load_data()"
      ],
      "execution_count": null,
      "outputs": []
    },
    {
      "cell_type": "code",
      "metadata": {
        "id": "9PqbSmNoosT1",
        "colab": {
          "base_uri": "https://localhost:8080/"
        },
        "outputId": "6dd53a5c-f925-4609-eaa0-5b777d8e523f"
      },
      "source": [
        "print(X_train.shape)"
      ],
      "execution_count": null,
      "outputs": [
        {
          "output_type": "stream",
          "text": [
            "(7352, 128, 9)\n"
          ],
          "name": "stdout"
        }
      ]
    },
    {
      "cell_type": "code",
      "metadata": {
        "id": "0iEvX7fSoxvX",
        "colab": {
          "base_uri": "https://localhost:8080/"
        },
        "outputId": "e10ae473-cd24-470d-e13d-3b2725d315c2"
      },
      "source": [
        "print(X_test.shape)"
      ],
      "execution_count": null,
      "outputs": [
        {
          "output_type": "stream",
          "text": [
            "(2947, 128, 9)\n"
          ],
          "name": "stdout"
        }
      ]
    },
    {
      "cell_type": "code",
      "metadata": {
        "id": "USFZRtzMo25W",
        "colab": {
          "base_uri": "https://localhost:8080/"
        },
        "outputId": "09529756-a7a2-40d4-c3ab-993434ae50f6"
      },
      "source": [
        "print(Y_train.shape)"
      ],
      "execution_count": null,
      "outputs": [
        {
          "output_type": "stream",
          "text": [
            "(7352, 6)\n"
          ],
          "name": "stdout"
        }
      ]
    },
    {
      "cell_type": "code",
      "metadata": {
        "id": "Yu4DJFo_o8Wi",
        "colab": {
          "base_uri": "https://localhost:8080/"
        },
        "outputId": "fd428a7b-f15a-4876-f2aa-5f12c13a2182"
      },
      "source": [
        "print(Y_test.shape)"
      ],
      "execution_count": null,
      "outputs": [
        {
          "output_type": "stream",
          "text": [
            "(2947, 6)\n"
          ],
          "name": "stdout"
        }
      ]
    },
    {
      "cell_type": "code",
      "metadata": {
        "id": "F-EEDeEPpARt",
        "colab": {
          "base_uri": "https://localhost:8080/"
        },
        "outputId": "8cd8bc9b-96b4-4e32-da22-b96ecff8c5b0"
      },
      "source": [
        "training_data_count = len(X_train)\n",
        "test_data_count = len(X_test) \n",
        "print(training_data_count)\n",
        "print(test_data_count)"
      ],
      "execution_count": null,
      "outputs": [
        {
          "output_type": "stream",
          "text": [
            "7352\n",
            "2947\n"
          ],
          "name": "stdout"
        }
      ]
    },
    {
      "cell_type": "markdown",
      "metadata": {
        "id": "CSovOjBPiT-l"
      },
      "source": [
        "# LSTM_RNN\n"
      ]
    },
    {
      "cell_type": "code",
      "metadata": {
        "id": "r4vgLhBkiaCL"
      },
      "source": [
        "# Importing tensorflow\n",
        "np.random.seed(42)\n",
        "import tensorflow as tf\n",
        "tf.random.set_seed(42)"
      ],
      "execution_count": null,
      "outputs": []
    },
    {
      "cell_type": "code",
      "metadata": {
        "id": "WelICRKikAs0"
      },
      "source": [
        "# initialising the parameters\n",
        "epochs = 45\n",
        "batch_size = 16\n",
        "n_hidden = 32"
      ],
      "execution_count": null,
      "outputs": []
    },
    {
      "cell_type": "code",
      "metadata": {
        "id": "JGFrCl1Nnvpq",
        "colab": {
          "base_uri": "https://localhost:8080/"
        },
        "outputId": "4ce1183f-f3db-41ee-b22d-3efcb58fea56"
      },
      "source": [
        "timesteps = len(X_train[0])\n",
        "input_dim = len(X_train[0][0])\n",
        "n_classes = _count_classes(Y_train)\n",
        "#n_classes be 6\n",
        "print(timesteps)\n",
        "print(input_dim)\n",
        "print(len(X_train))\n",
        "print(n_classes)"
      ],
      "execution_count": null,
      "outputs": [
        {
          "output_type": "stream",
          "text": [
            "128\n",
            "9\n",
            "7352\n",
            "6\n"
          ],
          "name": "stdout"
        }
      ]
    },
    {
      "cell_type": "markdown",
      "metadata": {
        "id": "cWnhOI_IoU7G"
      },
      "source": [
        "**Base_model of LSTM-RNN**\n"
      ]
    },
    {
      "cell_type": "code",
      "metadata": {
        "id": "mhMW4pvyopGH",
        "colab": {
          "base_uri": "https://localhost:8080/"
        },
        "outputId": "0d0bf998-5577-40be-9249-dc777f616cc3"
      },
      "source": [
        "# Initiliazing the sequential model\n",
        "model = Sequential()\n",
        "# Configuring the parameters\n",
        "model.add(LSTM(n_hidden, input_shape=(timesteps, input_dim)))\n",
        "# Adding a dropout layer\n",
        "model.add(Dropout(0.5))\n",
        "# Adding a dense output layer with sigmoid activation\n",
        "model.add(Dense(n_classes, activation='sigmoid'))\n",
        "model.summary()"
      ],
      "execution_count": null,
      "outputs": [
        {
          "output_type": "stream",
          "text": [
            "Model: \"sequential\"\n",
            "_________________________________________________________________\n",
            "Layer (type)                 Output Shape              Param #   \n",
            "=================================================================\n",
            "lstm (LSTM)                  (None, 32)                5376      \n",
            "_________________________________________________________________\n",
            "dropout (Dropout)            (None, 32)                0         \n",
            "_________________________________________________________________\n",
            "dense (Dense)                (None, 6)                 198       \n",
            "=================================================================\n",
            "Total params: 5,574\n",
            "Trainable params: 5,574\n",
            "Non-trainable params: 0\n",
            "_________________________________________________________________\n"
          ],
          "name": "stdout"
        }
      ]
    },
    {
      "cell_type": "code",
      "metadata": {
        "id": "IS7YHdq1phGQ"
      },
      "source": [
        "# Compiling the model\n",
        "model.compile(loss='categorical_crossentropy',\n",
        "              optimizer='rmsprop',\n",
        "              metrics=['accuracy'])"
      ],
      "execution_count": null,
      "outputs": []
    },
    {
      "cell_type": "code",
      "metadata": {
        "id": "tCtUC2dQpj2L",
        "colab": {
          "base_uri": "https://localhost:8080/"
        },
        "outputId": "7b5dd3b6-f912-4e19-e490-605774089f14"
      },
      "source": [
        "# Training the model\n",
        "model.fit(X_train,Y_train,\n",
        "          batch_size=batch_size,\n",
        "          validation_data=(X_test, Y_test),\n",
        "          epochs=epochs,shuffle=True)\n"
      ],
      "execution_count": null,
      "outputs": [
        {
          "output_type": "stream",
          "text": [
            "Epoch 1/45\n",
            "460/460 [==============================] - 18s 38ms/step - loss: 1.4152 - accuracy: 0.3490 - val_loss: 1.3627 - val_accuracy: 0.3984\n",
            "Epoch 2/45\n",
            "460/460 [==============================] - 17s 38ms/step - loss: 1.0927 - accuracy: 0.5469 - val_loss: 0.9226 - val_accuracy: 0.6227\n",
            "Epoch 3/45\n",
            "460/460 [==============================] - 17s 38ms/step - loss: 0.8244 - accuracy: 0.6496 - val_loss: 0.7819 - val_accuracy: 0.6352\n",
            "Epoch 4/45\n",
            "460/460 [==============================] - 17s 38ms/step - loss: 0.7127 - accuracy: 0.6742 - val_loss: 0.7771 - val_accuracy: 0.6535\n",
            "Epoch 5/45\n",
            "460/460 [==============================] - 17s 38ms/step - loss: 0.6585 - accuracy: 0.6950 - val_loss: 0.7408 - val_accuracy: 0.6851\n",
            "Epoch 6/45\n",
            "460/460 [==============================] - 17s 38ms/step - loss: 0.5801 - accuracy: 0.7552 - val_loss: 0.6393 - val_accuracy: 0.7448\n",
            "Epoch 7/45\n",
            "460/460 [==============================] - 18s 38ms/step - loss: 0.4957 - accuracy: 0.8108 - val_loss: 0.4658 - val_accuracy: 0.8045\n",
            "Epoch 8/45\n",
            "460/460 [==============================] - 18s 39ms/step - loss: 0.4352 - accuracy: 0.8376 - val_loss: 0.5603 - val_accuracy: 0.8096\n",
            "Epoch 9/45\n",
            "460/460 [==============================] - 18s 39ms/step - loss: 0.3760 - accuracy: 0.8810 - val_loss: 0.4653 - val_accuracy: 0.8456\n",
            "Epoch 10/45\n",
            "460/460 [==============================] - 18s 38ms/step - loss: 0.3260 - accuracy: 0.8993 - val_loss: 0.5442 - val_accuracy: 0.8378\n",
            "Epoch 11/45\n",
            "460/460 [==============================] - 18s 38ms/step - loss: 0.3032 - accuracy: 0.9086 - val_loss: 0.5032 - val_accuracy: 0.8558\n",
            "Epoch 12/45\n",
            "460/460 [==============================] - 17s 38ms/step - loss: 0.2570 - accuracy: 0.9256 - val_loss: 0.5099 - val_accuracy: 0.8728\n",
            "Epoch 13/45\n",
            "460/460 [==============================] - 17s 38ms/step - loss: 0.2427 - accuracy: 0.9276 - val_loss: 0.5741 - val_accuracy: 0.8816\n",
            "Epoch 14/45\n",
            "460/460 [==============================] - 18s 38ms/step - loss: 0.2293 - accuracy: 0.9298 - val_loss: 0.6177 - val_accuracy: 0.8599\n",
            "Epoch 15/45\n",
            "460/460 [==============================] - 17s 38ms/step - loss: 0.2055 - accuracy: 0.9344 - val_loss: 0.6082 - val_accuracy: 0.8544\n",
            "Epoch 16/45\n",
            "460/460 [==============================] - 18s 38ms/step - loss: 0.2006 - accuracy: 0.9385 - val_loss: 0.4274 - val_accuracy: 0.8975\n",
            "Epoch 17/45\n",
            "460/460 [==============================] - 18s 38ms/step - loss: 0.1920 - accuracy: 0.9407 - val_loss: 0.5437 - val_accuracy: 0.8789\n",
            "Epoch 18/45\n",
            "460/460 [==============================] - 18s 39ms/step - loss: 0.1825 - accuracy: 0.9385 - val_loss: 0.6089 - val_accuracy: 0.8789\n",
            "Epoch 19/45\n",
            "460/460 [==============================] - 18s 39ms/step - loss: 0.1861 - accuracy: 0.9388 - val_loss: 0.4762 - val_accuracy: 0.8884\n",
            "Epoch 20/45\n",
            "460/460 [==============================] - 18s 39ms/step - loss: 0.2527 - accuracy: 0.9274 - val_loss: 0.4974 - val_accuracy: 0.8887\n",
            "Epoch 21/45\n",
            "460/460 [==============================] - 20s 44ms/step - loss: 0.1961 - accuracy: 0.9422 - val_loss: 0.6418 - val_accuracy: 0.8775\n",
            "Epoch 22/45\n",
            "460/460 [==============================] - 18s 38ms/step - loss: 0.2020 - accuracy: 0.9385 - val_loss: 0.4378 - val_accuracy: 0.8999\n",
            "Epoch 23/45\n",
            "460/460 [==============================] - 17s 38ms/step - loss: 0.1858 - accuracy: 0.9422 - val_loss: 0.4837 - val_accuracy: 0.9050\n",
            "Epoch 24/45\n",
            "460/460 [==============================] - 18s 40ms/step - loss: 0.1787 - accuracy: 0.9421 - val_loss: 0.5411 - val_accuracy: 0.9013\n",
            "Epoch 25/45\n",
            "460/460 [==============================] - 19s 40ms/step - loss: 0.1833 - accuracy: 0.9444 - val_loss: 0.6776 - val_accuracy: 0.8802\n",
            "Epoch 26/45\n",
            "460/460 [==============================] - 19s 41ms/step - loss: 0.1852 - accuracy: 0.9422 - val_loss: 0.6711 - val_accuracy: 0.8846\n",
            "Epoch 27/45\n",
            "460/460 [==============================] - 19s 42ms/step - loss: 0.1925 - accuracy: 0.9423 - val_loss: 0.5872 - val_accuracy: 0.9009\n",
            "Epoch 28/45\n",
            "460/460 [==============================] - 19s 41ms/step - loss: 0.1634 - accuracy: 0.9433 - val_loss: 0.6557 - val_accuracy: 0.8846\n",
            "Epoch 29/45\n",
            "460/460 [==============================] - 19s 41ms/step - loss: 0.1782 - accuracy: 0.9433 - val_loss: 0.5980 - val_accuracy: 0.8996\n",
            "Epoch 30/45\n",
            "460/460 [==============================] - 19s 40ms/step - loss: 0.1554 - accuracy: 0.9495 - val_loss: 0.7308 - val_accuracy: 0.8819\n",
            "Epoch 31/45\n",
            "460/460 [==============================] - 19s 41ms/step - loss: 0.1599 - accuracy: 0.9467 - val_loss: 0.6073 - val_accuracy: 0.8907\n",
            "Epoch 32/45\n",
            "460/460 [==============================] - 19s 40ms/step - loss: 0.1488 - accuracy: 0.9487 - val_loss: 0.6231 - val_accuracy: 0.8860\n",
            "Epoch 33/45\n",
            "460/460 [==============================] - 19s 40ms/step - loss: 0.1518 - accuracy: 0.9472 - val_loss: 1.0231 - val_accuracy: 0.8714\n",
            "Epoch 34/45\n",
            "460/460 [==============================] - 19s 41ms/step - loss: 0.1560 - accuracy: 0.9478 - val_loss: 0.6918 - val_accuracy: 0.8887\n",
            "Epoch 35/45\n",
            "460/460 [==============================] - 19s 42ms/step - loss: 0.1716 - accuracy: 0.9457 - val_loss: 0.6056 - val_accuracy: 0.8979\n",
            "Epoch 36/45\n",
            "460/460 [==============================] - 19s 41ms/step - loss: 0.1500 - accuracy: 0.9489 - val_loss: 0.6332 - val_accuracy: 0.8962\n",
            "Epoch 37/45\n",
            "460/460 [==============================] - 18s 40ms/step - loss: 0.1409 - accuracy: 0.9478 - val_loss: 0.5575 - val_accuracy: 0.8992\n",
            "Epoch 38/45\n",
            "460/460 [==============================] - 19s 41ms/step - loss: 0.1590 - accuracy: 0.9489 - val_loss: 0.5210 - val_accuracy: 0.9013\n",
            "Epoch 39/45\n",
            "460/460 [==============================] - 19s 40ms/step - loss: 0.1299 - accuracy: 0.9520 - val_loss: 0.5268 - val_accuracy: 0.9101\n",
            "Epoch 40/45\n",
            "460/460 [==============================] - 18s 40ms/step - loss: 0.1408 - accuracy: 0.9490 - val_loss: 0.5173 - val_accuracy: 0.9074\n",
            "Epoch 41/45\n",
            "460/460 [==============================] - 19s 40ms/step - loss: 0.1535 - accuracy: 0.9483 - val_loss: 0.5954 - val_accuracy: 0.9002\n",
            "Epoch 42/45\n",
            "460/460 [==============================] - 19s 41ms/step - loss: 0.1506 - accuracy: 0.9506 - val_loss: 0.6214 - val_accuracy: 0.9094\n",
            "Epoch 43/45\n",
            "460/460 [==============================] - 19s 41ms/step - loss: 0.1450 - accuracy: 0.9506 - val_loss: 0.7580 - val_accuracy: 0.9002\n",
            "Epoch 44/45\n",
            "460/460 [==============================] - 19s 41ms/step - loss: 0.1481 - accuracy: 0.9502 - val_loss: 0.6070 - val_accuracy: 0.9063\n",
            "Epoch 45/45\n",
            "460/460 [==============================] - 19s 40ms/step - loss: 0.1474 - accuracy: 0.9472 - val_loss: 0.6303 - val_accuracy: 0.9043\n"
          ],
          "name": "stdout"
        },
        {
          "output_type": "execute_result",
          "data": {
            "text/plain": [
              "<tensorflow.python.keras.callbacks.History at 0x7f1f16404518>"
            ]
          },
          "metadata": {
            "tags": []
          },
          "execution_count": 22
        }
      ]
    },
    {
      "cell_type": "code",
      "metadata": {
        "id": "PAhRLv6hoxz-"
      },
      "source": [
        "Y_pred = model.predict(X_test)"
      ],
      "execution_count": null,
      "outputs": []
    },
    {
      "cell_type": "code",
      "metadata": {
        "id": "Ipm8JL_ppAWL"
      },
      "source": [
        "pred = np.argmax(Y_pred,axis = 1) \n",
        "Y_actual = np.argmax(Y_test,axis = 1)"
      ],
      "execution_count": null,
      "outputs": []
    },
    {
      "cell_type": "code",
      "metadata": {
        "id": "py_L1oJMpoBt"
      },
      "source": [
        "from sklearn.metrics import classification_report, confusion_matrix"
      ],
      "execution_count": null,
      "outputs": []
    },
    {
      "cell_type": "code",
      "metadata": {
        "id": "Sglry8a1pGCP",
        "colab": {
          "base_uri": "https://localhost:8080/"
        },
        "outputId": "d30b4556-b46f-4687-dbf5-13516c050735"
      },
      "source": [
        "confusion_matrix(Y_actual, pred)"
      ],
      "execution_count": null,
      "outputs": [
        {
          "output_type": "execute_result",
          "data": {
            "text/plain": [
              "array([[455,  13,  27,   1,   0,   0],\n",
              "       [  8, 457,   2,   3,   1,   0],\n",
              "       [  4,  19, 397,   0,   0,   0],\n",
              "       [  0,  23,   1, 416,  51,   0],\n",
              "       [  1,   0,   0, 101, 430,   0],\n",
              "       [  0,  27,   0,   0,   0, 510]])"
            ]
          },
          "metadata": {
            "tags": []
          },
          "execution_count": 39
        }
      ]
    },
    {
      "cell_type": "code",
      "metadata": {
        "id": "bULMk2ELpxWe",
        "colab": {
          "base_uri": "https://localhost:8080/"
        },
        "outputId": "924f5853-8ae0-4982-bac9-7e614e19defb"
      },
      "source": [
        "print(classification_report(Y_actual, pred))"
      ],
      "execution_count": null,
      "outputs": [
        {
          "output_type": "stream",
          "text": [
            "              precision    recall  f1-score   support\n",
            "\n",
            "           0       0.97      0.92      0.94       496\n",
            "           1       0.85      0.97      0.90       471\n",
            "           2       0.93      0.95      0.94       420\n",
            "           3       0.80      0.85      0.82       491\n",
            "           4       0.89      0.81      0.85       532\n",
            "           5       1.00      0.95      0.97       537\n",
            "\n",
            "    accuracy                           0.90      2947\n",
            "   macro avg       0.91      0.91      0.91      2947\n",
            "weighted avg       0.91      0.90      0.90      2947\n",
            "\n"
          ],
          "name": "stdout"
        }
      ]
    },
    {
      "cell_type": "markdown",
      "metadata": {
        "id": "tmoCJ7cDqGVD"
      },
      "source": [
        "**Multi_Layer LSTM**"
      ]
    },
    {
      "cell_type": "code",
      "metadata": {
        "id": "rKl29WLfqbk6",
        "colab": {
          "base_uri": "https://localhost:8080/"
        },
        "outputId": "43b4402f-66a7-4ad3-a45b-7a535721ff28"
      },
      "source": [
        "# Initiliazing the sequential model\n",
        "model = Sequential()\n",
        "# Configuring the parameters\n",
        "model.add(LSTM(32,return_sequences=True,input_shape=(timesteps, input_dim)))\n",
        "# Adding a dropout layer\n",
        "model.add(Dropout(0.5))\n",
        "\n",
        "model.add(LSTM(28,input_shape=(timesteps, input_dim)))\n",
        "# Adding a dropout layer\n",
        "model.add(Dropout(0.6))\n",
        "# Adding a dense output layer with sigmoid activation\n",
        "model.add(Dense(n_classes, activation='softmax'))\n",
        "model.summary()"
      ],
      "execution_count": null,
      "outputs": [
        {
          "output_type": "stream",
          "text": [
            "Model: \"sequential_1\"\n",
            "_________________________________________________________________\n",
            "Layer (type)                 Output Shape              Param #   \n",
            "=================================================================\n",
            "lstm_1 (LSTM)                (None, 128, 32)           5376      \n",
            "_________________________________________________________________\n",
            "dropout_1 (Dropout)          (None, 128, 32)           0         \n",
            "_________________________________________________________________\n",
            "lstm_2 (LSTM)                (None, 28)                6832      \n",
            "_________________________________________________________________\n",
            "dropout_2 (Dropout)          (None, 28)                0         \n",
            "_________________________________________________________________\n",
            "dense_1 (Dense)              (None, 6)                 174       \n",
            "=================================================================\n",
            "Total params: 12,382\n",
            "Trainable params: 12,382\n",
            "Non-trainable params: 0\n",
            "_________________________________________________________________\n"
          ],
          "name": "stdout"
        }
      ]
    },
    {
      "cell_type": "code",
      "metadata": {
        "id": "ZTy1Yx0xq4N-"
      },
      "source": [
        "# Compiling the model\n",
        "model.compile(loss='categorical_crossentropy',\n",
        "              optimizer='rmsprop',\n",
        "              metrics=['accuracy'])"
      ],
      "execution_count": null,
      "outputs": []
    },
    {
      "cell_type": "code",
      "metadata": {
        "id": "QXT6Wl3VrK6e",
        "colab": {
          "base_uri": "https://localhost:8080/"
        },
        "outputId": "4590bd7d-431d-4e97-c6db-075d7086fca5"
      },
      "source": [
        "# Training the model\n",
        "model.fit(X_train,\n",
        "          Y_train,\n",
        "          batch_size=batch_size,\n",
        "          validation_data=(X_test, Y_test),\n",
        "          epochs=epochs)"
      ],
      "execution_count": null,
      "outputs": [
        {
          "output_type": "stream",
          "text": [
            "Epoch 1/45\n",
            "460/460 [==============================] - 38s 83ms/step - loss: 1.1459 - accuracy: 0.5190 - val_loss: 0.9061 - val_accuracy: 0.6468\n",
            "Epoch 2/45\n",
            "460/460 [==============================] - 37s 81ms/step - loss: 0.7169 - accuracy: 0.7335 - val_loss: 0.7242 - val_accuracy: 0.7635\n",
            "Epoch 3/45\n",
            "460/460 [==============================] - 37s 81ms/step - loss: 0.5587 - accuracy: 0.8003 - val_loss: 0.5496 - val_accuracy: 0.8140\n",
            "Epoch 4/45\n",
            "460/460 [==============================] - 37s 81ms/step - loss: 0.4157 - accuracy: 0.8658 - val_loss: 0.5504 - val_accuracy: 0.8436\n",
            "Epoch 5/45\n",
            "460/460 [==============================] - 37s 81ms/step - loss: 0.3137 - accuracy: 0.9119 - val_loss: 0.5372 - val_accuracy: 0.8524\n",
            "Epoch 6/45\n",
            "460/460 [==============================] - 37s 81ms/step - loss: 0.2754 - accuracy: 0.9242 - val_loss: 0.4810 - val_accuracy: 0.8666\n",
            "Epoch 7/45\n",
            "460/460 [==============================] - 38s 82ms/step - loss: 0.2298 - accuracy: 0.9282 - val_loss: 0.4504 - val_accuracy: 0.8812\n",
            "Epoch 8/45\n",
            "460/460 [==============================] - 37s 81ms/step - loss: 0.2116 - accuracy: 0.9344 - val_loss: 0.4006 - val_accuracy: 0.8894\n",
            "Epoch 9/45\n",
            "460/460 [==============================] - 37s 81ms/step - loss: 0.1868 - accuracy: 0.9388 - val_loss: 0.6246 - val_accuracy: 0.8748\n",
            "Epoch 10/45\n",
            "460/460 [==============================] - 37s 81ms/step - loss: 0.1810 - accuracy: 0.9392 - val_loss: 0.3877 - val_accuracy: 0.8962\n",
            "Epoch 11/45\n",
            "460/460 [==============================] - 37s 81ms/step - loss: 0.1854 - accuracy: 0.9399 - val_loss: 0.3865 - val_accuracy: 0.8921\n",
            "Epoch 12/45\n",
            "460/460 [==============================] - 37s 81ms/step - loss: 0.1794 - accuracy: 0.9415 - val_loss: 0.4241 - val_accuracy: 0.8924\n",
            "Epoch 13/45\n",
            "460/460 [==============================] - 37s 81ms/step - loss: 0.1779 - accuracy: 0.9408 - val_loss: 0.7074 - val_accuracy: 0.8653\n",
            "Epoch 14/45\n",
            "460/460 [==============================] - 37s 81ms/step - loss: 0.1636 - accuracy: 0.9476 - val_loss: 0.5340 - val_accuracy: 0.8982\n",
            "Epoch 15/45\n",
            "460/460 [==============================] - 38s 82ms/step - loss: 0.1637 - accuracy: 0.9453 - val_loss: 0.4541 - val_accuracy: 0.8951\n",
            "Epoch 16/45\n",
            "460/460 [==============================] - 37s 81ms/step - loss: 0.1544 - accuracy: 0.9457 - val_loss: 0.5763 - val_accuracy: 0.8795\n",
            "Epoch 17/45\n",
            "460/460 [==============================] - 37s 81ms/step - loss: 0.1468 - accuracy: 0.9449 - val_loss: 0.4489 - val_accuracy: 0.9040\n",
            "Epoch 18/45\n",
            "460/460 [==============================] - 37s 81ms/step - loss: 0.1530 - accuracy: 0.9446 - val_loss: 0.5298 - val_accuracy: 0.8999\n",
            "Epoch 19/45\n",
            "460/460 [==============================] - 37s 81ms/step - loss: 0.1492 - accuracy: 0.9476 - val_loss: 0.5533 - val_accuracy: 0.8962\n",
            "Epoch 20/45\n",
            "460/460 [==============================] - 37s 81ms/step - loss: 0.1423 - accuracy: 0.9480 - val_loss: 0.5876 - val_accuracy: 0.8918\n",
            "Epoch 21/45\n",
            "460/460 [==============================] - 37s 81ms/step - loss: 0.1567 - accuracy: 0.9457 - val_loss: 0.4759 - val_accuracy: 0.8951\n",
            "Epoch 22/45\n",
            "460/460 [==============================] - 37s 81ms/step - loss: 0.1509 - accuracy: 0.9459 - val_loss: 0.5059 - val_accuracy: 0.9074\n",
            "Epoch 23/45\n",
            "460/460 [==============================] - 38s 82ms/step - loss: 0.1407 - accuracy: 0.9465 - val_loss: 0.5703 - val_accuracy: 0.9060\n",
            "Epoch 24/45\n",
            "460/460 [==============================] - 38s 83ms/step - loss: 0.1505 - accuracy: 0.9467 - val_loss: 0.7067 - val_accuracy: 0.8972\n",
            "Epoch 25/45\n",
            "460/460 [==============================] - 38s 82ms/step - loss: 0.1531 - accuracy: 0.9490 - val_loss: 0.6113 - val_accuracy: 0.8897\n",
            "Epoch 26/45\n",
            "460/460 [==============================] - 38s 82ms/step - loss: 0.1689 - accuracy: 0.9440 - val_loss: 0.4955 - val_accuracy: 0.9019\n",
            "Epoch 27/45\n",
            "460/460 [==============================] - 38s 82ms/step - loss: 0.1624 - accuracy: 0.9456 - val_loss: 0.5988 - val_accuracy: 0.9002\n",
            "Epoch 28/45\n",
            "460/460 [==============================] - 37s 81ms/step - loss: 0.1402 - accuracy: 0.9483 - val_loss: 0.4364 - val_accuracy: 0.9145\n",
            "Epoch 29/45\n",
            "460/460 [==============================] - 37s 81ms/step - loss: 0.1526 - accuracy: 0.9464 - val_loss: 0.5811 - val_accuracy: 0.9135\n",
            "Epoch 30/45\n",
            "460/460 [==============================] - 37s 81ms/step - loss: 0.1469 - accuracy: 0.9480 - val_loss: 0.6519 - val_accuracy: 0.8941\n",
            "Epoch 31/45\n",
            "460/460 [==============================] - 37s 81ms/step - loss: 0.1380 - accuracy: 0.9509 - val_loss: 0.5969 - val_accuracy: 0.9189\n",
            "Epoch 32/45\n",
            "460/460 [==============================] - 38s 82ms/step - loss: 0.1462 - accuracy: 0.9465 - val_loss: 0.6668 - val_accuracy: 0.8979\n",
            "Epoch 33/45\n",
            "460/460 [==============================] - 38s 82ms/step - loss: 0.1375 - accuracy: 0.9505 - val_loss: 0.7053 - val_accuracy: 0.9060\n",
            "Epoch 34/45\n",
            "460/460 [==============================] - 38s 82ms/step - loss: 0.1410 - accuracy: 0.9487 - val_loss: 0.6532 - val_accuracy: 0.9033\n",
            "Epoch 35/45\n",
            "460/460 [==============================] - 40s 87ms/step - loss: 0.1553 - accuracy: 0.9468 - val_loss: 0.5743 - val_accuracy: 0.8833\n",
            "Epoch 36/45\n",
            "460/460 [==============================] - 37s 81ms/step - loss: 0.1541 - accuracy: 0.9471 - val_loss: 0.5765 - val_accuracy: 0.9104\n",
            "Epoch 37/45\n",
            "460/460 [==============================] - 37s 81ms/step - loss: 0.1462 - accuracy: 0.9501 - val_loss: 0.5899 - val_accuracy: 0.9240\n",
            "Epoch 38/45\n",
            "460/460 [==============================] - 38s 82ms/step - loss: 0.1435 - accuracy: 0.9508 - val_loss: 0.5144 - val_accuracy: 0.9125\n",
            "Epoch 39/45\n",
            "460/460 [==============================] - 38s 82ms/step - loss: 0.1434 - accuracy: 0.9514 - val_loss: 0.5500 - val_accuracy: 0.8935\n",
            "Epoch 40/45\n",
            "460/460 [==============================] - 38s 83ms/step - loss: 0.1431 - accuracy: 0.9497 - val_loss: 0.5602 - val_accuracy: 0.9053\n",
            "Epoch 41/45\n",
            "460/460 [==============================] - 38s 82ms/step - loss: 0.1555 - accuracy: 0.9478 - val_loss: 0.5810 - val_accuracy: 0.9111\n",
            "Epoch 42/45\n",
            "460/460 [==============================] - 37s 81ms/step - loss: 0.1497 - accuracy: 0.9523 - val_loss: 0.6121 - val_accuracy: 0.8975\n",
            "Epoch 43/45\n",
            "460/460 [==============================] - 37s 81ms/step - loss: 0.1283 - accuracy: 0.9565 - val_loss: 0.5274 - val_accuracy: 0.9046\n",
            "Epoch 44/45\n",
            "460/460 [==============================] - 37s 81ms/step - loss: 0.1374 - accuracy: 0.9521 - val_loss: 0.6125 - val_accuracy: 0.9030\n",
            "Epoch 45/45\n",
            "460/460 [==============================] - 38s 82ms/step - loss: 0.1274 - accuracy: 0.9510 - val_loss: 0.6941 - val_accuracy: 0.9050\n"
          ],
          "name": "stdout"
        },
        {
          "output_type": "execute_result",
          "data": {
            "text/plain": [
              "<tensorflow.python.keras.callbacks.History at 0x7f1f1cbe3518>"
            ]
          },
          "metadata": {
            "tags": []
          },
          "execution_count": 43
        }
      ]
    },
    {
      "cell_type": "code",
      "metadata": {
        "id": "hNyo8KVOv6Zd"
      },
      "source": [
        "Y_pred = model.predict(X_test)"
      ],
      "execution_count": null,
      "outputs": []
    },
    {
      "cell_type": "code",
      "metadata": {
        "id": "-_r33tZDwE4J"
      },
      "source": [
        "pred = np.argmax(Y_pred,axis = 1) \n",
        "Y_actual = np.argmax(Y_test,axis = 1)"
      ],
      "execution_count": null,
      "outputs": []
    },
    {
      "cell_type": "code",
      "metadata": {
        "id": "xjNP0ab0z2Oa"
      },
      "source": [
        "from sklearn.metrics import classification_report, confusion_matrix"
      ],
      "execution_count": null,
      "outputs": []
    },
    {
      "cell_type": "code",
      "metadata": {
        "id": "VEhYH4ViwNCE"
      },
      "source": [
        "confusion_matrix=confusion_matrix(Y_actual, pred)"
      ],
      "execution_count": null,
      "outputs": []
    },
    {
      "cell_type": "code",
      "metadata": {
        "id": "Gnxn8Ra4j5Dw",
        "colab": {
          "base_uri": "https://localhost:8080/"
        },
        "outputId": "c496f44e-e914-4b32-f196-cab2db881402"
      },
      "source": [
        "print(confusion_matrix)"
      ],
      "execution_count": null,
      "outputs": [
        {
          "output_type": "stream",
          "text": [
            "[[437  13  46   0   0   0]\n",
            " [  3 450  18   0   0   0]\n",
            " [  0   7 413   0   0   0]\n",
            " [  0   1   1 371 118   0]\n",
            " [  1   0   0  44 487   0]\n",
            " [  0  14   1   0  13 509]]\n"
          ],
          "name": "stdout"
        }
      ]
    },
    {
      "cell_type": "code",
      "metadata": {
        "id": "yP0ebR8GwV1I",
        "colab": {
          "base_uri": "https://localhost:8080/"
        },
        "outputId": "cc8248e0-24fc-4fd4-c8ea-70c0a112ece2"
      },
      "source": [
        "print(classification_report(Y_actual, pred))"
      ],
      "execution_count": null,
      "outputs": [
        {
          "output_type": "stream",
          "text": [
            "              precision    recall  f1-score   support\n",
            "\n",
            "           0       0.99      0.88      0.93       496\n",
            "           1       0.93      0.96      0.94       471\n",
            "           2       0.86      0.98      0.92       420\n",
            "           3       0.89      0.76      0.82       491\n",
            "           4       0.79      0.92      0.85       532\n",
            "           5       1.00      0.95      0.97       537\n",
            "\n",
            "    accuracy                           0.90      2947\n",
            "   macro avg       0.91      0.91      0.91      2947\n",
            "weighted avg       0.91      0.90      0.91      2947\n",
            "\n"
          ],
          "name": "stdout"
        }
      ]
    },
    {
      "cell_type": "code",
      "metadata": {
        "id": "641ee9TbifsA",
        "colab": {
          "base_uri": "https://localhost:8080/",
          "height": 710
        },
        "outputId": "f0ed7deb-050f-4410-93a5-1bbf580df7e1"
      },
      "source": [
        "#visualiZation of the result\n",
        "\n",
        "\n",
        "#print(\"Testing Accuracy: {}%\".format(100*accuracy))\n",
        "\n",
        "#print(\"\")\n",
        "#print(\"Precision: {}%\".format(100*metrics.precision_score(y_test, predictions, average=\"weighted\")))\n",
        "#print(\"Recall: {}%\".format(100*metrics.recall_score(y_test, predictions, average=\"weighted\")))\n",
        "#print(\"f1_score: {}%\".format(100*metrics.f1_score(y_test, predictions, average=\"weighted\")))\n",
        "#normalised_confusion_matrix = np.array(confusion_matrix, dtype=np.float32)/np.sum(confusion_matrix)*100\n",
        "#print(\"Confusion matrix (normalised to % of total test data):\")\n",
        "#print(normalised_confusion_matrix)\n",
        "\n",
        "width = 10\n",
        "height = 10\n",
        "plt.figure(figsize=(width, height))\n",
        "plt.imshow(\n",
        "    confusion_matrix,\n",
        "    interpolation='nearest',\n",
        "    cmap=plt.cm.rainbow\n",
        ")\n",
        "plt.title(\"Confusion matrix for LSTM-RNN \\n\")\n",
        "plt.colorbar()\n",
        "tick_marks = np.arange(n_classes)\n",
        "plt.xticks(tick_marks, LABELS, rotation=90)\n",
        "plt.yticks(tick_marks, LABELS)\n",
        "plt.tight_layout()\n",
        "plt.ylabel('True label')\n",
        "plt.xlabel('Predicted label')\n",
        "plt.show()"
      ],
      "execution_count": null,
      "outputs": [
        {
          "output_type": "display_data",
          "data": {
            "image/png": "[encoded data removed]",
            "text/plain": [
              "<Figure size 720x720 with 2 Axes>"
            ]
          },
          "metadata": {
            "tags": [],
            "needs_background": "light"
          }
        }
      ]
    }
  ]
}